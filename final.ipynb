{
 "cells": [
  {
   "cell_type": "markdown",
   "metadata": {},
   "source": [
    "# Neural audio coding for speech enhancement"
   ]
  },
  {
   "cell_type": "code",
   "execution_count": null,
   "metadata": {},
   "outputs": [],
   "source": [
    "# %pip install -e ./AudioDec\n",
    "\n",
    "#imports\n",
    "\n",
    "from DataEncoder import DataEncoder\n",
    "from LatentTrainer import LatentTrainer"
   ]
  },
  {
   "cell_type": "markdown",
   "metadata": {},
   "source": [
    "# Generate encoded dataset"
   ]
  },
  {
   "cell_type": "code",
   "execution_count": null,
   "metadata": {},
   "outputs": [],
   "source": [
    "noise_files = ''\n",
    "speech_files = ''\n",
    "encoded_mixed_files = ''\n",
    "encoded_speech_files = ''\n",
    "\n",
    "data_encoder = DataEncoder(\n",
    "    speech_files=speech_files,\n",
    "    noise_files=noise_files,\n",
    "    encoded_speech_files=encoded_speech_files,\n",
    "    encoded_mixed_files=encoded_mixed_files\n",
    ")\n"
   ]
  },
  {
   "cell_type": "code",
   "execution_count": null,
   "metadata": {},
   "outputs": [],
   "source": [
    "model_dir = ''\n",
    "trainer = LatentTrainer(\n",
    "    model_dir=model_dir,\n",
    "    data_dir = '',\n",
    "    noise_dir = '')\n",
    "\n",
    "trainer.train(num_epochs = 10)\n"
   ]
  }
 ],
 "metadata": {
  "kernelspec": {
   "display_name": "dl_project",
   "language": "python",
   "name": "python3"
  },
  "language_info": {
   "codemirror_mode": {
    "name": "ipython",
    "version": 3
   },
   "file_extension": ".py",
   "mimetype": "text/x-python",
   "name": "python",
   "nbconvert_exporter": "python",
   "pygments_lexer": "ipython3",
   "version": "3.11.6"
  }
 },
 "nbformat": 4,
 "nbformat_minor": 2
}
